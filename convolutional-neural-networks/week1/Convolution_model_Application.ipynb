{
 "cells": [
  {
   "cell_type": "markdown",
   "metadata": {},
   "source": [
    "# Convolutional Neural Networks: Application\n",
    "\n",
    "Welcome to Course 4's second assignment! In this notebook, you will:\n",
    "\n",
    "- Create a mood classifer using the TF Keras Sequential API\n",
    "- Build a ConvNet to identify sign language digits using the TF Keras Functional API\n",
    "\n",
    "**After this assignment you will be able to:**\n",
    "\n",
    "- Build and train a ConvNet in TensorFlow for a __binary__ classification problem\n",
    "- Build and train a ConvNet in TensorFlow for a __multiclass__ classification problem\n",
    "- Explain different use cases for the Sequential and Functional APIs\n",
    "\n",
    "To complete this assignment, you should already be familiar with TensorFlow. If you are not, please refer back to the **TensorFlow Tutorial** of the third week of Course 2 (\"**Improving deep neural networks**\")."
   ]
  },
  {
   "cell_type": "markdown",
   "metadata": {},
   "source": [
    "## Table of Contents\n",
    "\n",
    "- [1 - Packages](#1)\n",
    "    - [1.1 - Load the Data and Split the Data into Train/Test Sets](#1-1)\n",
    "- [2 - Layers in TF Keras](#2)\n",
    "- [3 - The Sequential API](#3)\n",
    "    - [3.1 - Create the Sequential Model](#3-1)\n",
    "        - [Exercise 1 - happyModel](#ex-1)\n",
    "    - [3.2 - Train and Evaluate the Model](#3-2)\n",
    "- [4 - The Functional API](#4)\n",
    "    - [4.1 - Load the SIGNS Dataset](#4-1)\n",
    "    - [4.2 - Split the Data into Train/Test Sets](#4-2)\n",
    "    - [4.3 - Forward Propagation](#4-3)\n",
    "        - [Exercise 2 - convolutional_model](#ex-2)\n",
    "    - [4.4 - Train the Model](#4-4)\n",
    "- [5 - History Object](#5)\n",
    "- [6 - Bibliography](#6)"
   ]
  },
  {
   "cell_type": "markdown",
   "metadata": {},
   "source": [
    "<a name='1'></a>\n",
    "## 1 - Packages\n",
    "\n",
    "As usual, begin by loading in the packages."
   ]
  },
  {
   "cell_type": "code",
   "execution_count": 1,
   "metadata": {},
   "outputs": [],
   "source": [
    "import math\n",
    "import numpy as np\n",
    "import h5py\n",
    "import matplotlib.pyplot as plt\n",
    "from matplotlib.pyplot import imread\n",
    "import scipy\n",
    "from PIL import Image\n",
    "import pandas as pd\n",
    "import tensorflow as tf\n",
    "import tensorflow.keras.layers as tfl\n",
    "from tensorflow.python.framework import ops\n",
    "from cnn_utils import *\n",
    "from test_utils import summary, comparator\n",
    "\n",
    "%matplotlib inline\n",
    "np.random.seed(1)"
   ]
  },
  {
   "cell_type": "markdown",
   "metadata": {},
   "source": [
    "<a name='1-1'></a>\n",
    "### 1.1 - Load the Data and Split the Data into Train/Test Sets\n",
    "\n",
    "You'll be using the Happy House dataset for this part of the assignment, which contains images of peoples' faces. Your task will be to build a ConvNet that determines whether the people in the images are smiling or not -- because they only get to enter the house if they're smiling!  "
   ]
  },
  {
   "cell_type": "code",
   "execution_count": 2,
   "metadata": {},
   "outputs": [
    {
     "name": "stdout",
     "output_type": "stream",
     "text": [
      "number of training examples = 600\n",
      "number of test examples = 150\n",
      "X_train shape: (600, 64, 64, 3)\n",
      "Y_train shape: (600, 1)\n",
      "X_test shape: (150, 64, 64, 3)\n",
      "Y_test shape: (150, 1)\n"
     ]
    }
   ],
   "source": [
    "X_train_orig, Y_train_orig, X_test_orig, Y_test_orig, classes = load_happy_dataset()\n",
    "\n",
    "# Normalize image vectors\n",
    "X_train = X_train_orig/255.\n",
    "X_test = X_test_orig/255.\n",
    "\n",
    "# Reshape\n",
    "Y_train = Y_train_orig.T\n",
    "Y_test = Y_test_orig.T\n",
    "\n",
    "print (\"number of training examples = \" + str(X_train.shape[0]))\n",
    "print (\"number of test examples = \" + str(X_test.shape[0]))\n",
    "print (\"X_train shape: \" + str(X_train.shape))\n",
    "print (\"Y_train shape: \" + str(Y_train.shape))\n",
    "print (\"X_test shape: \" + str(X_test.shape))\n",
    "print (\"Y_test shape: \" + str(Y_test.shape))"
   ]
  },
  {
   "cell_type": "markdown",
   "metadata": {},
   "source": [
    "You can display the images contained in the dataset. Images are **64x64** pixels in RGB format (3 channels)."
   ]
  },
  {
   "cell_type": "code",
   "execution_count": 3,
   "metadata": {},
   "outputs": [
    {
     "data": {
      "image/png": "[encoded data removed]",
      "text/plain": [
       "<Figure size 432x288 with 1 Axes>"
      ]
     },
     "metadata": {
      "needs_background": "light"
     },
     "output_type": "display_data"
    }
   ],
   "source": [
    "index = 124\n",
    "plt.imshow(X_train_orig[index]) #display sample training image\n",
    "plt.show()"
   ]
  },
  {
   "cell_type": "markdown",
   "metadata": {},
   "source": [
    "<a name='2'></a>\n",
    "## 2 - Layers in TF Keras \n",
    "\n",
    "In the previous assignment, you created layers manually in numpy. In TF Keras, you don't have to write code directly to create layers. Rather, TF Keras has pre-defined layers you can use. \n",
    "\n",
    "When you create a layer in TF Keras, you are creating a function that takes some input and transforms it into an output you can reuse later. Nice and easy! "
   ]
  },
  {
   "cell_type": "markdown",
   "metadata": {},
   "source": [
    "<a name='3'></a>\n",
    "## 3 - The Sequential API\n",
    "\n",
    "In the previous assignment, you built helper functions using `numpy` to understand the mechanics behind convolutional neural networks. Most practical applications of deep learning today are built using programming frameworks, which have many built-in functions you can simply call. Keras is a high-level abstraction built on top of TensorFlow, which allows for even more simplified and optimized model creation and training. \n",
    "\n",
    "For the first part of this assignment, you'll create a model using TF Keras' Sequential API, which allows you to build layer by layer, and is ideal for building models where each layer has **exactly one** input tensor and **one** output tensor. \n",
    "\n",
    "As you'll see, using the Sequential API is simple and straightforward, but is only appropriate for simpler, more straightforward tasks. Later in this notebook you'll spend some time building with a more flexible, powerful alternative: the Functional API. \n",
    " "
   ]
  },
  {
   "cell_type": "markdown",
   "metadata": {},
   "source": [
    "<a name='3-1'></a>\n",
    "### 3.1 - Create the Sequential Model\n",
    "\n",
    "As mentioned earlier, the TensorFlow Keras Sequential API can be used to build simple models with layer operations that proceed in a sequential order. \n",
    "\n",
    "You can also add layers incrementally to a Sequential model with the `.add()` method, or remove them using the `.pop()` method, much like you would in a regular Python list.\n",
    "\n",
    "Actually, you can think of a Sequential model as behaving like a list of layers. Like Python lists, Sequential layers are ordered, and the order in which they are specified matters.  If your model is non-linear or contains layers with multiple inputs or outputs, a Sequential model wouldn't be the right choice!\n",
    "\n",
    "For any layer construction in Keras, you'll need to specify the input shape in advance. This is because in Keras, the shape of the weights is based on the shape of the inputs. The weights are only created when the model first sees some input data. Sequential models can be created by passing a list of layers to the Sequential constructor, like you will do in the next assignment.\n",
    "\n",
    "<a name='ex-1'></a>\n",
    "### Exercise 1 - happyModel\n",
    "\n",
    "Implement the `happyModel` function below to build the following model: `ZEROPAD2D -> CONV2D -> BATCHNORM -> RELU -> MAXPOOL -> FLATTEN -> DENSE`. Take help from [tf.keras.layers](https://www.tensorflow.org/api_docs/python/tf/keras/layers) \n",
    "\n",
    "Also, plug in the following parameters for all the steps:\n",
    "\n",
    " - [ZeroPadding2D](https://www.tensorflow.org/api_docs/python/tf/keras/layers/ZeroPadding2D): padding 3, input shape 64 x 64 x 3\n",
    " - [Conv2D](https://www.tensorflow.org/api_docs/python/tf/keras/layers/Conv2D): Use 32 7x7 filters, stride 1\n",
    " - [BatchNormalization](https://www.tensorflow.org/api_docs/python/tf/keras/layers/BatchNormalization): for axis 3\n",
    " - [ReLU](https://www.tensorflow.org/api_docs/python/tf/keras/layers/ReLU)\n",
    " - [MaxPool2D](https://www.tensorflow.org/api_docs/python/tf/keras/layers/MaxPool2D): Using default parameters\n",
    " - [Flatten](https://www.tensorflow.org/api_docs/python/tf/keras/layers/Flatten) the previous output.\n",
    " - Fully-connected ([Dense](https://www.tensorflow.org/api_docs/python/tf/keras/layers/Dense)) layer: Apply a fully connected layer with 1 neuron and a sigmoid activation. \n",
    " \n",
    " \n",
    " **Hint:**\n",
    " \n",
    " Use **tfl** as shorthand for **tensorflow.keras.layers**"
   ]
  },
  {
   "cell_type": "code",
   "execution_count": 4,
   "metadata": {
    "deletable": false,
    "nbgrader": {
     "cell_type": "code",
     "checksum": "95d28b191f257bdd5b70c7b8952559d5",
     "grade": false,
     "grade_id": "cell-0e56d3fc28b69aec",
     "locked": false,
     "schema_version": 3,
     "solution": true,
     "task": false
    }
   },
   "outputs": [],
   "source": [
    "# GRADED FUNCTION: happyModel\n",
    "\n",
    "def happyModel():\n",
    "    \"\"\"\n",
    "    Implements the forward propagation for the binary classification model:\n",
    "    ZEROPAD2D -> CONV2D -> BATCHNORM -> RELU -> MAXPOOL -> FLATTEN -> DENSE\n",
    "    \n",
    "    Note that for simplicity and grading purposes, you'll hard-code all the values\n",
    "    such as the stride and kernel (filter) sizes. \n",
    "    Normally, functions should take these values as function parameters.\n",
    "    \n",
    "    Arguments:\n",
    "    None\n",
    "\n",
    "    Returns:\n",
    "    model -- TF Keras model (object containing the information for the entire training process) \n",
    "    \"\"\"\n",
    "    model = tf.keras.Sequential([\n",
    "            # YOUR CODE STARTS HERE\n",
    "\n",
    "            ## ZeroPadding2D with padding 3, input shape of 64 x 64 x 3\n",
    "            tfl.ZeroPadding2D(padding=(3, 3), input_shape=(64, 64, 3)),\n",
    "            ## Conv2D with 32 7x7 filters and stride of 1\n",
    "            tfl.Conv2D(32, 7, strides=(1, 1)),\n",
    "            ## BatchNormalization for axis 3\n",
    "            tfl.BatchNormalization(axis=3),\n",
    "            ## ReLU\n",
    "            tfl.ReLU(),\n",
    "            ## Max Pooling 2D with default parameters\n",
    "            tfl.MaxPool2D(),\n",
    "            ## Flatten layer\n",
    "            tfl.Flatten(),\n",
    "            ## Dense layer with 1 unit for output & 'sigmoid' activation\n",
    "            tfl.Dense(1, activation=\"sigmoid\")\n",
    "\n",
    "            # YOUR CODE ENDS HERE\n",
    "        ])\n",
    "    \n",
    "    return model"
   ]
  },
  {
   "cell_type": "code",
   "execution_count": 5,
   "metadata": {
    "deletable": false,
    "editable": false,
    "nbgrader": {
     "cell_type": "code",
     "checksum": "8d3575c950e2e78149be2d05d671c80d",
     "grade": true,
     "grade_id": "cell-e3e1046e5c33d775",
     "locked": true,
     "points": 10,
     "schema_version": 3,
     "solution": false,
     "task": false
    }
   },
   "outputs": [
    {
     "name": "stdout",
     "output_type": "stream",
     "text": [
      "['ZeroPadding2D', (None, 70, 70, 3), 0, ((3, 3), (3, 3))]\n",
      "['Conv2D', (None, 64, 64, 32), 4736, 'valid', 'linear', 'GlorotUniform']\n",
      "['BatchNormalization', (None, 64, 64, 32), 128]\n",
      "['ReLU', (None, 64, 64, 32), 0]\n",
      "['MaxPooling2D', (None, 32, 32, 32), 0, (2, 2), (2, 2), 'valid']\n",
      "['Flatten', (None, 32768), 0]\n",
      "['Dense', (None, 1), 32769, 'sigmoid']\n",
      "\u001b[32mAll tests passed!\u001b[0m\n"
     ]
    }
   ],
   "source": [
    "happy_model = happyModel()\n",
    "# Print a summary for each layer\n",
    "for layer in summary(happy_model):\n",
    "    print(layer)\n",
    "    \n",
    "output = [['ZeroPadding2D', (None, 70, 70, 3), 0, ((3, 3), (3, 3))],\n",
    "            ['Conv2D', (None, 64, 64, 32), 4736, 'valid', 'linear', 'GlorotUniform'],\n",
    "            ['BatchNormalization', (None, 64, 64, 32), 128],\n",
    "            ['ReLU', (None, 64, 64, 32), 0],\n",
    "            ['MaxPooling2D', (None, 32, 32, 32), 0, (2, 2), (2, 2), 'valid'],\n",
    "            ['Flatten', (None, 32768), 0],\n",
    "            ['Dense', (None, 1), 32769, 'sigmoid']]\n",
    "    \n",
    "comparator(summary(happy_model), output)"
   ]
  },
  {
   "cell_type": "markdown",
   "metadata": {},
   "source": [
    "Now that your model is created, you can compile it for training with an optimizer and loss of your choice. When the string `accuracy` is specified as a metric, the type of accuracy used will be automatically converted based on the loss function used. This is one of the many optimizations built into TensorFlow that make your life easier! If you'd like to read more on how the compiler operates, check the docs [here](https://www.tensorflow.org/api_docs/python/tf/keras/Model#compile)."
   ]
  },
  {
   "cell_type": "code",
   "execution_count": 6,
   "metadata": {},
   "outputs": [],
   "source": [
    "happy_model.compile(optimizer='adam',\n",
    "                   loss='binary_crossentropy',\n",
    "                   metrics=['accuracy'])"
   ]
  },
  {
   "cell_type": "markdown",
   "metadata": {},
   "source": [
    "It's time to check your model's parameters with the `.summary()` method. This will display the types of layers you have, the shape of the outputs, and how many parameters are in each layer. "
   ]
  },
  {
   "cell_type": "code",
   "execution_count": 7,
   "metadata": {},
   "outputs": [
    {
     "name": "stdout",
     "output_type": "stream",
     "text": [
      "Model: \"sequential\"\n",
      "_________________________________________________________________\n",
      "Layer (type)                 Output Shape              Param #   \n",
      "=================================================================\n",
      "zero_padding2d (ZeroPadding2 (None, 70, 70, 3)         0         \n",
      "_________________________________________________________________\n",
      "conv2d (Conv2D)              (None, 64, 64, 32)        4736      \n",
      "_________________________________________________________________\n",
      "batch_normalization (BatchNo (None, 64, 64, 32)        128       \n",
      "_________________________________________________________________\n",
      "re_lu (ReLU)                 (None, 64, 64, 32)        0         \n",
      "_________________________________________________________________\n",
      "max_pooling2d (MaxPooling2D) (None, 32, 32, 32)        0         \n",
      "_________________________________________________________________\n",
      "flatten (Flatten)            (None, 32768)             0         \n",
      "_________________________________________________________________\n",
      "dense (Dense)                (None, 1)                 32769     \n",
      "=================================================================\n",
      "Total params: 37,633\n",
      "Trainable params: 37,569\n",
      "Non-trainable params: 64\n",
      "_________________________________________________________________\n"
     ]
    }
   ],
   "source": [
    "happy_model.summary()"
   ]
  },
  {
   "cell_type": "markdown",
   "metadata": {},
   "source": [
    "<a name='3-2'></a>\n",
    "### 3.2 - Train and Evaluate the Model\n",
    "\n",
    "After creating the model, compiling it with your choice of optimizer and loss function, and doing a sanity check on its contents, you are now ready to build! \n",
    "\n",
    "Simply call `.fit()` to train. That's it! No need for mini-batching, saving, or complex backpropagation computations. That's all been done for you, as you're using a TensorFlow dataset with the batches specified already. You do have the option to specify epoch number or minibatch size if you like (for example, in the case of an un-batched dataset)."
   ]
  },
  {
   "cell_type": "code",
   "execution_count": 8,
   "metadata": {},
   "outputs": [
    {
     "name": "stdout",
     "output_type": "stream",
     "text": [
      "Epoch 1/10\n",
      "38/38 [==============================] - 4s 103ms/step - loss: 1.8175 - accuracy: 0.6467\n",
      "Epoch 2/10\n",
      "38/38 [==============================] - 4s 100ms/step - loss: 0.2503 - accuracy: 0.9000\n",
      "Epoch 3/10\n",
      "38/38 [==============================] - 4s 97ms/step - loss: 0.1433 - accuracy: 0.9417\n",
      "Epoch 4/10\n",
      "38/38 [==============================] - 4s 95ms/step - loss: 0.1680 - accuracy: 0.9317\n",
      "Epoch 5/10\n",
      "38/38 [==============================] - 4s 97ms/step - loss: 0.1597 - accuracy: 0.9383\n",
      "Epoch 6/10\n",
      "38/38 [==============================] - 4s 95ms/step - loss: 0.0841 - accuracy: 0.9750\n",
      "Epoch 7/10\n",
      "38/38 [==============================] - 4s 95ms/step - loss: 0.1442 - accuracy: 0.9367\n",
      "Epoch 8/10\n",
      "38/38 [==============================] - 4s 97ms/step - loss: 0.0944 - accuracy: 0.9650\n",
      "Epoch 9/10\n",
      "38/38 [==============================] - 4s 92ms/step - loss: 0.0781 - accuracy: 0.9667\n",
      "Epoch 10/10\n",
      "38/38 [==============================] - 4s 95ms/step - loss: 0.1229 - accuracy: 0.9483\n"
     ]
    },
    {
     "data": {
      "text/plain": [
       "<tensorflow.python.keras.callbacks.History at 0x7efc591d5950>"
      ]
     },
     "execution_count": 8,
     "metadata": {},
     "output_type": "execute_result"
    }
   ],
   "source": [
    "happy_model.fit(X_train, Y_train, epochs=10, batch_size=16)"
   ]
  },
  {
   "cell_type": "markdown",
   "metadata": {},
   "source": [
    "After that completes, just use `.evaluate()` to evaluate against your test set. This function will print the value of the loss function and the performance metrics specified during the compilation of the model. In this case, the `binary_crossentropy` and the `accuracy` respectively."
   ]
  },
  {
   "cell_type": "code",
   "execution_count": 9,
   "metadata": {},
   "outputs": [
    {
     "name": "stdout",
     "output_type": "stream",
     "text": [
      "5/5 [==============================] - 0s 40ms/step - loss: 0.7436 - accuracy: 0.6733\n"
     ]
    },
    {
     "data": {
      "text/plain": [
       "[0.7436081767082214, 0.6733333468437195]"
      ]
     },
     "execution_count": 9,
     "metadata": {},
     "output_type": "execute_result"
    }
   ],
   "source": [
    "happy_model.evaluate(X_test, Y_test)"
   ]
  },
  {
   "cell_type": "markdown",
   "metadata": {},
   "source": [
    "Easy, right? But what if you need to build a model with shared layers, branches, or multiple inputs and outputs? This is where Sequential, with its beautifully simple yet limited functionality, won't be able to help you. \n",
    "\n",
    "Next up: Enter the Functional API, your slightly more complex, highly flexible friend.  "
   ]
  },
  {
   "cell_type": "markdown",
   "metadata": {},
   "source": [
    "<a name='4'></a>\n",
    "## 4 - The Functional API"
   ]
  },
  {
   "cell_type": "markdown",
   "metadata": {},
   "source": [
    "Welcome to the second half of the assignment, where you'll use Keras' flexible [Functional API](https://www.tensorflow.org/guide/keras/functional) to build a ConvNet that can differentiate between 6 sign language digits. \n",
    "\n",
    "The Functional API can handle models with non-linear topology, shared layers, as well as layers with multiple inputs or outputs. Imagine that, where the Sequential API requires the model to move in a linear fashion through its layers, the Functional API allows much more flexibility. Where Sequential is a straight line, a Functional model is a graph, where the nodes of the layers can connect in many more ways than one. \n",
    "\n",
    "In the visual example below, the one possible direction of the movement Sequential model is shown in contrast to a skip connection, which is just one of the many ways a Functional model can be constructed. A skip connection, as you might have guessed, skips some layer in the network and feeds the output to a later layer in the network. Don't worry, you'll be spending more time with skip connections very soon! "
   ]
  },
  {
   "cell_type": "markdown",
   "metadata": {},
   "source": [
    "<img src=\"images/seq_vs_func.png\" style=\"width:350px;height:200px;\">"
   ]
  },
  {
   "cell_type": "markdown",
   "metadata": {},
   "source": [
    "<a name='4-1'></a>\n",
    "### 4.1 - Load the SIGNS Dataset\n",
    "\n",
    "As a reminder, the SIGNS dataset is a collection of 6 signs representing numbers from 0 to 5."
   ]
  },
  {
   "cell_type": "code",
   "execution_count": 10,
   "metadata": {},
   "outputs": [],
   "source": [
    "# Loading the data (signs)\n",
    "X_train_orig, Y_train_orig, X_test_orig, Y_test_orig, classes = load_signs_dataset()"
   ]
  },
  {
   "cell_type": "markdown",
   "metadata": {},
   "source": [
    "<img src=\"images/SIGNS.png\" style=\"width:800px;height:300px;\">\n",
    "\n",
    "The next cell will show you an example of a labelled image in the dataset. Feel free to change the value of `index` below and re-run to see different examples. "
   ]
  },
  {
   "cell_type": "code",
   "execution_count": 11,
   "metadata": {},
   "outputs": [
    {
     "name": "stdout",
     "output_type": "stream",
     "text": [
      "y = 4\n"
     ]
    },
    {
     "data": {
      "image/png": "[encoded data removed]",
      "text/plain": [
       "<Figure size 432x288 with 1 Axes>"
      ]
     },
     "metadata": {
      "needs_background": "light"
     },
     "output_type": "display_data"
    }
   ],
   "source": [
    "# Example of an image from the dataset\n",
    "index = 9\n",
    "plt.imshow(X_train_orig[index])\n",
    "print (\"y = \" + str(np.squeeze(Y_train_orig[:, index])))"
   ]
  },
  {
   "cell_type": "markdown",
   "metadata": {},
   "source": [
    "<a name='4-2'></a>\n",
    "### 4.2 - Split the Data into Train/Test Sets\n",
    "\n",
    "In Course 2, you built a fully-connected network for this dataset. But since this is an image dataset, it is more natural to apply a ConvNet to it.\n",
    "\n",
    "To get started, let's examine the shapes of your data. "
   ]
  },
  {
   "cell_type": "code",
   "execution_count": 12,
   "metadata": {},
   "outputs": [
    {
     "name": "stdout",
     "output_type": "stream",
     "text": [
      "number of training examples = 1080\n",
      "number of test examples = 120\n",
      "X_train shape: (1080, 64, 64, 3)\n",
      "Y_train shape: (1080, 6)\n",
      "X_test shape: (120, 64, 64, 3)\n",
      "Y_test shape: (120, 6)\n"
     ]
    }
   ],
   "source": [
    "X_train = X_train_orig/255.\n",
    "X_test = X_test_orig/255.\n",
    "Y_train = convert_to_one_hot(Y_train_orig, 6).T\n",
    "Y_test = convert_to_one_hot(Y_test_orig, 6).T\n",
    "print (\"number of training examples = \" + str(X_train.shape[0]))\n",
    "print (\"number of test examples = \" + str(X_test.shape[0]))\n",
    "print (\"X_train shape: \" + str(X_train.shape))\n",
    "print (\"Y_train shape: \" + str(Y_train.shape))\n",
    "print (\"X_test shape: \" + str(X_test.shape))\n",
    "print (\"Y_test shape: \" + str(Y_test.shape))"
   ]
  },
  {
   "cell_type": "markdown",
   "metadata": {},
   "source": [
    "<a name='4-3'></a>\n",
    "### 4.3 - Forward Propagation\n",
    "\n",
    "In TensorFlow, there are built-in functions that implement the convolution steps for you. By now, you should be familiar with how TensorFlow builds computational graphs. In the [Functional API](https://www.tensorflow.org/guide/keras/functional), you create a graph of layers. This is what allows such great flexibility.\n",
    "\n",
    "However, the following model could also be defined using the Sequential API since the information flow is on a single line. But don't deviate. What we want you to learn is to use the functional API.\n",
    "\n",
    "Begin building your graph of layers by creating an input node that functions as a callable object:\n",
    "\n",
    "- **input_img = tf.keras.Input(shape=input_shape):** \n",
    "\n",
    "Then, create a new node in the graph of layers by calling a layer on the `input_img` object: \n",
    "\n",
    "- **tf.keras.layers.Conv2D(filters= ... , kernel_size= ... , padding='same')(input_img):** Read the full documentation on [Conv2D](https://www.tensorflow.org/api_docs/python/tf/keras/layers/Conv2D).\n",
    "\n",
    "- **tf.keras.layers.MaxPool2D(pool_size=(f, f), strides=(s, s), padding='same'):** `MaxPool2D()` downsamples your input using a window of size (f, f) and strides of size (s, s) to carry out max pooling over each window.  For max pooling, you usually operate on a single example at a time and a single channel at a time. Read the full documentation on [MaxPool2D](https://www.tensorflow.org/api_docs/python/tf/keras/layers/MaxPool2D).\n",
    "\n",
    "- **tf.keras.layers.ReLU():** computes the elementwise ReLU of Z (which can be any shape). You can read the full documentation on [ReLU](https://www.tensorflow.org/api_docs/python/tf/keras/layers/ReLU).\n",
    "\n",
    "- **tf.keras.layers.Flatten()**: given a tensor \"P\", this function takes each training (or test) example in the batch and flattens it into a 1D vector.  \n",
    "\n",
    "    * If a tensor P has the shape (batch_size,h,w,c), it returns a flattened tensor with shape (batch_size, k), where $k=h \\times w \\times c$.  \"k\" equals the product of all the dimension sizes other than the first dimension.\n",
    "    \n",
    "    * For example, given a tensor with dimensions [100, 2, 3, 4], it flattens the tensor to be of shape [100, 24], where 24 = 2 * 3 * 4.  You can read the full documentation on [Flatten](https://www.tensorflow.org/api_docs/python/tf/keras/layers/Flatten).\n",
    "\n",
    "- **tf.keras.layers.Dense(units= ... , activation='softmax')(F):** given the flattened input F, it returns the output computed using a fully connected layer. You can read the full documentation on [Dense](https://www.tensorflow.org/api_docs/python/tf/keras/layers/Dense).\n",
    "\n",
    "In the last function above (`tf.keras.layers.Dense()`), the fully connected layer automatically initializes weights in the graph and keeps on training them as you train the model. Hence, you did not need to initialize those weights when initializing the parameters.\n",
    "\n",
    "Lastly, before creating the model, you'll need to define the output using the last of the function's compositions (in this example, a Dense layer): \n",
    "\n",
    "- **outputs = tf.keras.layers.Dense(units=6, activation='softmax')(F)**\n",
    "\n",
    "\n",
    "#### Window, kernel, filter, pool\n",
    "\n",
    "The words \"kernel\" and \"filter\" are used to refer to the same thing. The word \"filter\" accounts for the amount of \"kernels\" that will be used in a single convolution layer. \"Pool\" is the name of the operation that takes the max or average value of the kernels. \n",
    "\n",
    "This is why the parameter `pool_size` refers to `kernel_size`, and you use `(f,f)` to refer to the filter size. \n",
    "\n",
    "Pool size and kernel size refer to the same thing in different objects - They refer to the shape of the window where the operation takes place. "
   ]
  },
  {
   "cell_type": "markdown",
   "metadata": {},
   "source": [
    "<a name='ex-2'></a>\n",
    "### Exercise 2 - convolutional_model\n",
    "\n",
    "Implement the `convolutional_model` function below to build the following model: `CONV2D -> RELU -> MAXPOOL -> CONV2D -> RELU -> MAXPOOL -> FLATTEN -> DENSE`. Use the functions above! \n",
    "\n",
    "Also, plug in the following parameters for all the steps:\n",
    "\n",
    " - [Conv2D](https://www.tensorflow.org/api_docs/python/tf/keras/layers/Conv2D): Use 8 4 by 4 filters, stride 1, padding is \"SAME\"\n",
    " - [ReLU](https://www.tensorflow.org/api_docs/python/tf/keras/layers/ReLU)\n",
    " - [MaxPool2D](https://www.tensorflow.org/api_docs/python/tf/keras/layers/MaxPool2D): Use an 8 by 8 filter size and an 8 by 8 stride, padding is \"SAME\"\n",
    " - **Conv2D**: Use 16 2 by 2 filters, stride 1, padding is \"SAME\"\n",
    " - **ReLU**\n",
    " - **MaxPool2D**: Use a 4 by 4 filter size and a 4 by 4 stride, padding is \"SAME\"\n",
    " - [Flatten](https://www.tensorflow.org/api_docs/python/tf/keras/layers/Flatten) the previous output.\n",
    " - Fully-connected ([Dense](https://www.tensorflow.org/api_docs/python/tf/keras/layers/Dense)) layer: Apply a fully connected layer with 6 neurons and a softmax activation. "
   ]
  },
  {
   "cell_type": "code",
   "execution_count": 15,
   "metadata": {
    "deletable": false,
    "nbgrader": {
     "cell_type": "code",
     "checksum": "f58643806aa8380c96225fc8b4c5e7aa",
     "grade": false,
     "grade_id": "cell-dac51744a9e03f51",
     "locked": false,
     "schema_version": 3,
     "solution": true,
     "task": false
    }
   },
   "outputs": [],
   "source": [
    "# GRADED FUNCTION: convolutional_model\n",
    "\n",
    "def convolutional_model(input_shape):\n",
    "    \"\"\"\n",
    "    Implements the forward propagation for the model:\n",
    "    CONV2D -> RELU -> MAXPOOL -> CONV2D -> RELU -> MAXPOOL -> FLATTEN -> DENSE\n",
    "    \n",
    "    Note that for simplicity and grading purposes, you'll hard-code some values\n",
    "    such as the stride and kernel (filter) sizes. \n",
    "    Normally, functions should take these values as function parameters.\n",
    "    \n",
    "    Arguments:\n",
    "    input_img -- input dataset, of shape (input_shape)\n",
    "\n",
    "    Returns:\n",
    "    model -- TF Keras model (object containing the information for the entire training process) \n",
    "    \"\"\"\n",
    "\n",
    "    input_img = tf.keras.Input(shape=input_shape)\n",
    "    \n",
    "    # YOUR CODE STARTS HERE\n",
    "\n",
    "    ## CONV2D: 8 filters 4x4, stride of 1, padding 'SAME'\n",
    "    Z1 = tfl.Conv2D(8, 4, strides=(1, 1), padding='SAME')(input_img)\n",
    "    ## RELU\n",
    "    A1 = tfl.ReLU()(Z1)\n",
    "    ## MAXPOOL: window 8x8, stride 8, padding 'SAME'\n",
    "    P1 = tfl.MaxPool2D(pool_size=(8, 8), strides=(8, 8), padding='SAME')(A1)\n",
    "    ## CONV2D: 16 filters 2x2, stride 1, padding 'SAME'\n",
    "    Z2 = tfl.Conv2D(16, 2, strides=(1, 1), padding='SAME')(P1)\n",
    "    ## RELU\n",
    "    A2 = tfl.ReLU()(Z2)\n",
    "    ## MAXPOOL: window 4x4, stride 4, padding 'SAME'\n",
    "    P2 = tfl.MaxPool2D(pool_size=(4, 4), strides=(4, 4), padding='SAME')(A2)\n",
    "    ## FLATTEN\n",
    "    F = tfl.Flatten()(P2)\n",
    "    ## Dense layer\n",
    "    ## 6 neurons in output layer. Hint: one of the arguments should be \"activation='softmax'\" \n",
    "    outputs = tfl.Dense(6, activation='softmax')(F)\n",
    "        \n",
    "    # YOUR CODE ENDS HERE\n",
    "    \n",
    "    model = tf.keras.Model(inputs=input_img, outputs=outputs)\n",
    "    return model"
   ]
  },
  {
   "cell_type": "code",
   "execution_count": 16,
   "metadata": {
    "deletable": false,
    "editable": false,
    "nbgrader": {
     "cell_type": "code",
     "checksum": "483d626949930a0b0ef20997e7c6ba72",
     "grade": true,
     "grade_id": "cell-45d22e92042174c9",
     "locked": true,
     "points": 10,
     "schema_version": 3,
     "solution": false,
     "task": false
    }
   },
   "outputs": [
    {
     "name": "stdout",
     "output_type": "stream",
     "text": [
      "Model: \"functional_3\"\n",
      "_________________________________________________________________\n",
      "Layer (type)                 Output Shape              Param #   \n",
      "=================================================================\n",
      "input_2 (InputLayer)         [(None, 64, 64, 3)]       0         \n",
      "_________________________________________________________________\n",
      "conv2d_3 (Conv2D)            (None, 64, 64, 8)         392       \n",
      "_________________________________________________________________\n",
      "re_lu_3 (ReLU)               (None, 64, 64, 8)         0         \n",
      "_________________________________________________________________\n",
      "max_pooling2d_3 (MaxPooling2 (None, 8, 8, 8)           0         \n",
      "_________________________________________________________________\n",
      "conv2d_4 (Conv2D)            (None, 8, 8, 16)          528       \n",
      "_________________________________________________________________\n",
      "re_lu_4 (ReLU)               (None, 8, 8, 16)          0         \n",
      "_________________________________________________________________\n",
      "max_pooling2d_4 (MaxPooling2 (None, 2, 2, 16)          0         \n",
      "_________________________________________________________________\n",
      "flatten_2 (Flatten)          (None, 64)                0         \n",
      "_________________________________________________________________\n",
      "dense_2 (Dense)              (None, 6)                 390       \n",
      "=================================================================\n",
      "Total params: 1,310\n",
      "Trainable params: 1,310\n",
      "Non-trainable params: 0\n",
      "_________________________________________________________________\n",
      "\u001b[32mAll tests passed!\u001b[0m\n"
     ]
    }
   ],
   "source": [
    "conv_model = convolutional_model((64, 64, 3))\n",
    "conv_model.compile(optimizer='adam',\n",
    "                  loss='categorical_crossentropy',\n",
    "                  metrics=['accuracy'])\n",
    "conv_model.summary()\n",
    "    \n",
    "output = [['InputLayer', [(None, 64, 64, 3)], 0],\n",
    "        ['Conv2D', (None, 64, 64, 8), 392, 'same', 'linear', 'GlorotUniform'],\n",
    "        ['ReLU', (None, 64, 64, 8), 0],\n",
    "        ['MaxPooling2D', (None, 8, 8, 8), 0, (8, 8), (8, 8), 'same'],\n",
    "        ['Conv2D', (None, 8, 8, 16), 528, 'same', 'linear', 'GlorotUniform'],\n",
    "        ['ReLU', (None, 8, 8, 16), 0],\n",
    "        ['MaxPooling2D', (None, 2, 2, 16), 0, (4, 4), (4, 4), 'same'],\n",
    "        ['Flatten', (None, 64), 0],\n",
    "        ['Dense', (None, 6), 390, 'softmax']]\n",
    "    \n",
    "comparator(summary(conv_model), output)"
   ]
  },
  {
   "cell_type": "markdown",
   "metadata": {},
   "source": [
    "Both the Sequential and Functional APIs return a TF Keras model object. The only difference is how inputs are handled inside the object model! "
   ]
  },
  {
   "cell_type": "markdown",
   "metadata": {},
   "source": [
    "<a name='4-4'></a>\n",
    "### 4.4 - Train the Model"
   ]
  },
  {
   "cell_type": "code",
   "execution_count": 17,
   "metadata": {},
   "outputs": [
    {
     "name": "stdout",
     "output_type": "stream",
     "text": [
      "Epoch 1/100\n",
      "17/17 [==============================] - 2s 106ms/step - loss: 1.7980 - accuracy: 0.1528 - val_loss: 1.7916 - val_accuracy: 0.2083\n",
      "Epoch 2/100\n",
      "17/17 [==============================] - 2s 101ms/step - loss: 1.7842 - accuracy: 0.1963 - val_loss: 1.7866 - val_accuracy: 0.1917\n",
      "Epoch 3/100\n",
      "17/17 [==============================] - 2s 106ms/step - loss: 1.7796 - accuracy: 0.2491 - val_loss: 1.7831 - val_accuracy: 0.2500\n",
      "Epoch 4/100\n",
      "17/17 [==============================] - 2s 106ms/step - loss: 1.7730 - accuracy: 0.2306 - val_loss: 1.7767 - val_accuracy: 0.1750\n",
      "Epoch 5/100\n",
      "17/17 [==============================] - 2s 101ms/step - loss: 1.7655 - accuracy: 0.3111 - val_loss: 1.7664 - val_accuracy: 0.3917\n",
      "Epoch 6/100\n",
      "17/17 [==============================] - 2s 106ms/step - loss: 1.7535 - accuracy: 0.4231 - val_loss: 1.7572 - val_accuracy: 0.3917\n",
      "Epoch 7/100\n",
      "17/17 [==============================] - 2s 106ms/step - loss: 1.7404 - accuracy: 0.4324 - val_loss: 1.7452 - val_accuracy: 0.4750\n",
      "Epoch 8/100\n",
      "17/17 [==============================] - 2s 106ms/step - loss: 1.7241 - accuracy: 0.4731 - val_loss: 1.7292 - val_accuracy: 0.4667\n",
      "Epoch 9/100\n",
      "17/17 [==============================] - 2s 106ms/step - loss: 1.7011 - accuracy: 0.5037 - val_loss: 1.7111 - val_accuracy: 0.5083\n",
      "Epoch 10/100\n",
      "17/17 [==============================] - 2s 106ms/step - loss: 1.6758 - accuracy: 0.5176 - val_loss: 1.6857 - val_accuracy: 0.5417\n",
      "Epoch 11/100\n",
      "17/17 [==============================] - 2s 106ms/step - loss: 1.6434 - accuracy: 0.5231 - val_loss: 1.6570 - val_accuracy: 0.5083\n",
      "Epoch 12/100\n",
      "17/17 [==============================] - 2s 106ms/step - loss: 1.6048 - accuracy: 0.5296 - val_loss: 1.6220 - val_accuracy: 0.5250\n",
      "Epoch 13/100\n",
      "17/17 [==============================] - 2s 111ms/step - loss: 1.5603 - accuracy: 0.5296 - val_loss: 1.5824 - val_accuracy: 0.5083\n",
      "Epoch 14/100\n",
      "17/17 [==============================] - 2s 106ms/step - loss: 1.5099 - accuracy: 0.5389 - val_loss: 1.5393 - val_accuracy: 0.5083\n",
      "Epoch 15/100\n",
      "17/17 [==============================] - 2s 100ms/step - loss: 1.4576 - accuracy: 0.5491 - val_loss: 1.4889 - val_accuracy: 0.5417\n",
      "Epoch 16/100\n",
      "17/17 [==============================] - 2s 106ms/step - loss: 1.4028 - accuracy: 0.5583 - val_loss: 1.4384 - val_accuracy: 0.5333\n",
      "Epoch 17/100\n",
      "17/17 [==============================] - 2s 106ms/step - loss: 1.3489 - accuracy: 0.5750 - val_loss: 1.3848 - val_accuracy: 0.5500\n",
      "Epoch 18/100\n",
      "17/17 [==============================] - 2s 106ms/step - loss: 1.2956 - accuracy: 0.5954 - val_loss: 1.3320 - val_accuracy: 0.5667\n",
      "Epoch 19/100\n",
      "17/17 [==============================] - 2s 106ms/step - loss: 1.2438 - accuracy: 0.6074 - val_loss: 1.2801 - val_accuracy: 0.6083\n",
      "Epoch 20/100\n",
      "17/17 [==============================] - 2s 106ms/step - loss: 1.1947 - accuracy: 0.6333 - val_loss: 1.2300 - val_accuracy: 0.6083\n",
      "Epoch 21/100\n",
      "17/17 [==============================] - 2s 111ms/step - loss: 1.1478 - accuracy: 0.6528 - val_loss: 1.1826 - val_accuracy: 0.6167\n",
      "Epoch 22/100\n",
      "17/17 [==============================] - 2s 107ms/step - loss: 1.1022 - accuracy: 0.6694 - val_loss: 1.1374 - val_accuracy: 0.6250\n",
      "Epoch 23/100\n",
      "17/17 [==============================] - 2s 106ms/step - loss: 1.0594 - accuracy: 0.6898 - val_loss: 1.0935 - val_accuracy: 0.6250\n",
      "Epoch 24/100\n",
      "17/17 [==============================] - 2s 106ms/step - loss: 1.0153 - accuracy: 0.7102 - val_loss: 1.0425 - val_accuracy: 0.6750\n",
      "Epoch 25/100\n",
      "17/17 [==============================] - 2s 106ms/step - loss: 0.9710 - accuracy: 0.7315 - val_loss: 0.9949 - val_accuracy: 0.6750\n",
      "Epoch 26/100\n",
      "17/17 [==============================] - 2s 106ms/step - loss: 0.9299 - accuracy: 0.7380 - val_loss: 0.9467 - val_accuracy: 0.6917\n",
      "Epoch 27/100\n",
      "17/17 [==============================] - 2s 106ms/step - loss: 0.8922 - accuracy: 0.7491 - val_loss: 0.9084 - val_accuracy: 0.7083\n",
      "Epoch 28/100\n",
      "17/17 [==============================] - 2s 106ms/step - loss: 0.8583 - accuracy: 0.7556 - val_loss: 0.8727 - val_accuracy: 0.7167\n",
      "Epoch 29/100\n",
      "17/17 [==============================] - 2s 106ms/step - loss: 0.8268 - accuracy: 0.7639 - val_loss: 0.8406 - val_accuracy: 0.7333\n",
      "Epoch 30/100\n",
      "17/17 [==============================] - 2s 106ms/step - loss: 0.7982 - accuracy: 0.7694 - val_loss: 0.8111 - val_accuracy: 0.7417\n",
      "Epoch 31/100\n",
      "17/17 [==============================] - 2s 106ms/step - loss: 0.7708 - accuracy: 0.7741 - val_loss: 0.7843 - val_accuracy: 0.7417\n",
      "Epoch 32/100\n",
      "17/17 [==============================] - 2s 106ms/step - loss: 0.7452 - accuracy: 0.7824 - val_loss: 0.7582 - val_accuracy: 0.7750\n",
      "Epoch 33/100\n",
      "17/17 [==============================] - 2s 106ms/step - loss: 0.7219 - accuracy: 0.7861 - val_loss: 0.7342 - val_accuracy: 0.7667\n",
      "Epoch 34/100\n",
      "17/17 [==============================] - 2s 106ms/step - loss: 0.7003 - accuracy: 0.7926 - val_loss: 0.7129 - val_accuracy: 0.7667\n",
      "Epoch 35/100\n",
      "17/17 [==============================] - 2s 106ms/step - loss: 0.6800 - accuracy: 0.7954 - val_loss: 0.6926 - val_accuracy: 0.7667\n",
      "Epoch 36/100\n",
      "17/17 [==============================] - 2s 106ms/step - loss: 0.6617 - accuracy: 0.8019 - val_loss: 0.6727 - val_accuracy: 0.7750\n",
      "Epoch 37/100\n",
      "17/17 [==============================] - 2s 106ms/step - loss: 0.6444 - accuracy: 0.8083 - val_loss: 0.6557 - val_accuracy: 0.7917\n",
      "Epoch 38/100\n",
      "17/17 [==============================] - 2s 106ms/step - loss: 0.6276 - accuracy: 0.8185 - val_loss: 0.6396 - val_accuracy: 0.7917\n",
      "Epoch 39/100\n",
      "17/17 [==============================] - 2s 106ms/step - loss: 0.6119 - accuracy: 0.8222 - val_loss: 0.6259 - val_accuracy: 0.7917\n",
      "Epoch 40/100\n",
      "17/17 [==============================] - 2s 106ms/step - loss: 0.5972 - accuracy: 0.8250 - val_loss: 0.6115 - val_accuracy: 0.8000\n",
      "Epoch 41/100\n",
      "17/17 [==============================] - 2s 106ms/step - loss: 0.5836 - accuracy: 0.8287 - val_loss: 0.5983 - val_accuracy: 0.8083\n",
      "Epoch 42/100\n",
      "17/17 [==============================] - 2s 111ms/step - loss: 0.5700 - accuracy: 0.8324 - val_loss: 0.5838 - val_accuracy: 0.8083\n",
      "Epoch 43/100\n",
      "17/17 [==============================] - 2s 111ms/step - loss: 0.5574 - accuracy: 0.8361 - val_loss: 0.5712 - val_accuracy: 0.8083\n",
      "Epoch 44/100\n",
      "17/17 [==============================] - 2s 106ms/step - loss: 0.5455 - accuracy: 0.8389 - val_loss: 0.5608 - val_accuracy: 0.8083\n",
      "Epoch 45/100\n",
      "17/17 [==============================] - 2s 106ms/step - loss: 0.5342 - accuracy: 0.8454 - val_loss: 0.5501 - val_accuracy: 0.8167\n",
      "Epoch 46/100\n",
      "17/17 [==============================] - 2s 111ms/step - loss: 0.5237 - accuracy: 0.8481 - val_loss: 0.5410 - val_accuracy: 0.8167\n",
      "Epoch 47/100\n",
      "17/17 [==============================] - 2s 106ms/step - loss: 0.5133 - accuracy: 0.8491 - val_loss: 0.5326 - val_accuracy: 0.8167\n",
      "Epoch 48/100\n",
      "17/17 [==============================] - 2s 106ms/step - loss: 0.5037 - accuracy: 0.8546 - val_loss: 0.5239 - val_accuracy: 0.8167\n",
      "Epoch 49/100\n",
      "17/17 [==============================] - 2s 112ms/step - loss: 0.4945 - accuracy: 0.8574 - val_loss: 0.5164 - val_accuracy: 0.8250\n",
      "Epoch 50/100\n",
      "17/17 [==============================] - 2s 107ms/step - loss: 0.4858 - accuracy: 0.8602 - val_loss: 0.5088 - val_accuracy: 0.8250\n",
      "Epoch 51/100\n",
      "17/17 [==============================] - 2s 106ms/step - loss: 0.4769 - accuracy: 0.8630 - val_loss: 0.5010 - val_accuracy: 0.8333\n",
      "Epoch 52/100\n",
      "17/17 [==============================] - 2s 106ms/step - loss: 0.4687 - accuracy: 0.8657 - val_loss: 0.4944 - val_accuracy: 0.8333\n",
      "Epoch 53/100\n",
      "17/17 [==============================] - 2s 101ms/step - loss: 0.4614 - accuracy: 0.8676 - val_loss: 0.4875 - val_accuracy: 0.8500\n",
      "Epoch 54/100\n",
      "17/17 [==============================] - 2s 106ms/step - loss: 0.4540 - accuracy: 0.8685 - val_loss: 0.4816 - val_accuracy: 0.8417\n",
      "Epoch 55/100\n",
      "17/17 [==============================] - 2s 102ms/step - loss: 0.4467 - accuracy: 0.8694 - val_loss: 0.4751 - val_accuracy: 0.8417\n",
      "Epoch 56/100\n",
      "17/17 [==============================] - 2s 106ms/step - loss: 0.4411 - accuracy: 0.8741 - val_loss: 0.4706 - val_accuracy: 0.8500\n",
      "Epoch 57/100\n",
      "17/17 [==============================] - 2s 102ms/step - loss: 0.4345 - accuracy: 0.8741 - val_loss: 0.4638 - val_accuracy: 0.8500\n",
      "Epoch 58/100\n",
      "17/17 [==============================] - 2s 106ms/step - loss: 0.4279 - accuracy: 0.8759 - val_loss: 0.4573 - val_accuracy: 0.8500\n",
      "Epoch 59/100\n",
      "17/17 [==============================] - 2s 106ms/step - loss: 0.4226 - accuracy: 0.8778 - val_loss: 0.4526 - val_accuracy: 0.8500\n",
      "Epoch 60/100\n",
      "17/17 [==============================] - 2s 106ms/step - loss: 0.4162 - accuracy: 0.8796 - val_loss: 0.4464 - val_accuracy: 0.8500\n",
      "Epoch 61/100\n",
      "17/17 [==============================] - 2s 106ms/step - loss: 0.4117 - accuracy: 0.8787 - val_loss: 0.4427 - val_accuracy: 0.8667\n",
      "Epoch 62/100\n",
      "17/17 [==============================] - 2s 107ms/step - loss: 0.4069 - accuracy: 0.8796 - val_loss: 0.4390 - val_accuracy: 0.8500\n",
      "Epoch 63/100\n",
      "17/17 [==============================] - 2s 106ms/step - loss: 0.4013 - accuracy: 0.8787 - val_loss: 0.4340 - val_accuracy: 0.8500\n",
      "Epoch 64/100\n",
      "17/17 [==============================] - 2s 111ms/step - loss: 0.3961 - accuracy: 0.8815 - val_loss: 0.4280 - val_accuracy: 0.8583\n",
      "Epoch 65/100\n",
      "17/17 [==============================] - 2s 106ms/step - loss: 0.3915 - accuracy: 0.8824 - val_loss: 0.4244 - val_accuracy: 0.8583\n",
      "Epoch 66/100\n",
      "17/17 [==============================] - 2s 106ms/step - loss: 0.3867 - accuracy: 0.8815 - val_loss: 0.4189 - val_accuracy: 0.8750\n",
      "Epoch 67/100\n",
      "17/17 [==============================] - 2s 106ms/step - loss: 0.3826 - accuracy: 0.8861 - val_loss: 0.4171 - val_accuracy: 0.8667\n",
      "Epoch 68/100\n",
      "17/17 [==============================] - 2s 111ms/step - loss: 0.3779 - accuracy: 0.8824 - val_loss: 0.4112 - val_accuracy: 0.8667\n",
      "Epoch 69/100\n",
      "17/17 [==============================] - 2s 106ms/step - loss: 0.3735 - accuracy: 0.8843 - val_loss: 0.4048 - val_accuracy: 0.8667\n",
      "Epoch 70/100\n",
      "17/17 [==============================] - 2s 107ms/step - loss: 0.3696 - accuracy: 0.8852 - val_loss: 0.4045 - val_accuracy: 0.8750\n",
      "Epoch 71/100\n",
      "17/17 [==============================] - 2s 106ms/step - loss: 0.3656 - accuracy: 0.8880 - val_loss: 0.3986 - val_accuracy: 0.8750\n",
      "Epoch 72/100\n",
      "17/17 [==============================] - 2s 106ms/step - loss: 0.3614 - accuracy: 0.8889 - val_loss: 0.3938 - val_accuracy: 0.8667\n",
      "Epoch 73/100\n",
      "17/17 [==============================] - 2s 106ms/step - loss: 0.3577 - accuracy: 0.8926 - val_loss: 0.3891 - val_accuracy: 0.8750\n",
      "Epoch 74/100\n",
      "17/17 [==============================] - 2s 106ms/step - loss: 0.3537 - accuracy: 0.8935 - val_loss: 0.3879 - val_accuracy: 0.8750\n",
      "Epoch 75/100\n",
      "17/17 [==============================] - 2s 106ms/step - loss: 0.3500 - accuracy: 0.8944 - val_loss: 0.3828 - val_accuracy: 0.8833\n",
      "Epoch 76/100\n",
      "17/17 [==============================] - 2s 106ms/step - loss: 0.3464 - accuracy: 0.8926 - val_loss: 0.3788 - val_accuracy: 0.8833\n",
      "Epoch 77/100\n",
      "17/17 [==============================] - 2s 106ms/step - loss: 0.3425 - accuracy: 0.8963 - val_loss: 0.3748 - val_accuracy: 0.8833\n",
      "Epoch 78/100\n",
      "17/17 [==============================] - 2s 106ms/step - loss: 0.3391 - accuracy: 0.8935 - val_loss: 0.3731 - val_accuracy: 0.8833\n",
      "Epoch 79/100\n",
      "17/17 [==============================] - 2s 106ms/step - loss: 0.3355 - accuracy: 0.8981 - val_loss: 0.3681 - val_accuracy: 0.8833\n",
      "Epoch 80/100\n",
      "17/17 [==============================] - 2s 106ms/step - loss: 0.3322 - accuracy: 0.8954 - val_loss: 0.3671 - val_accuracy: 0.8833\n",
      "Epoch 81/100\n",
      "17/17 [==============================] - 2s 111ms/step - loss: 0.3287 - accuracy: 0.8981 - val_loss: 0.3631 - val_accuracy: 0.8833\n",
      "Epoch 82/100\n",
      "17/17 [==============================] - 2s 107ms/step - loss: 0.3257 - accuracy: 0.8954 - val_loss: 0.3635 - val_accuracy: 0.8833\n",
      "Epoch 83/100\n",
      "17/17 [==============================] - 2s 106ms/step - loss: 0.3222 - accuracy: 0.8981 - val_loss: 0.3589 - val_accuracy: 0.8833\n",
      "Epoch 84/100\n",
      "17/17 [==============================] - 2s 106ms/step - loss: 0.3192 - accuracy: 0.8954 - val_loss: 0.3598 - val_accuracy: 0.8833\n",
      "Epoch 85/100\n",
      "17/17 [==============================] - 2s 106ms/step - loss: 0.3160 - accuracy: 0.8991 - val_loss: 0.3550 - val_accuracy: 0.8750\n",
      "Epoch 86/100\n",
      "17/17 [==============================] - 2s 106ms/step - loss: 0.3136 - accuracy: 0.8972 - val_loss: 0.3558 - val_accuracy: 0.8833\n",
      "Epoch 87/100\n",
      "17/17 [==============================] - 2s 106ms/step - loss: 0.3100 - accuracy: 0.9019 - val_loss: 0.3512 - val_accuracy: 0.8833\n",
      "Epoch 88/100\n",
      "17/17 [==============================] - 2s 106ms/step - loss: 0.3071 - accuracy: 0.9000 - val_loss: 0.3520 - val_accuracy: 0.8833\n",
      "Epoch 89/100\n",
      "17/17 [==============================] - 2s 106ms/step - loss: 0.3043 - accuracy: 0.9000 - val_loss: 0.3471 - val_accuracy: 0.8833\n",
      "Epoch 90/100\n",
      "17/17 [==============================] - 2s 106ms/step - loss: 0.3013 - accuracy: 0.9037 - val_loss: 0.3504 - val_accuracy: 0.8917\n",
      "Epoch 91/100\n",
      "17/17 [==============================] - 2s 101ms/step - loss: 0.2983 - accuracy: 0.9056 - val_loss: 0.3488 - val_accuracy: 0.8917\n",
      "Epoch 92/100\n",
      "17/17 [==============================] - 2s 106ms/step - loss: 0.2961 - accuracy: 0.9037 - val_loss: 0.3479 - val_accuracy: 0.8917\n",
      "Epoch 93/100\n",
      "17/17 [==============================] - 2s 107ms/step - loss: 0.2935 - accuracy: 0.9083 - val_loss: 0.3460 - val_accuracy: 0.8917\n",
      "Epoch 94/100\n",
      "17/17 [==============================] - 2s 106ms/step - loss: 0.2905 - accuracy: 0.9083 - val_loss: 0.3440 - val_accuracy: 0.8917\n",
      "Epoch 95/100\n",
      "17/17 [==============================] - 2s 106ms/step - loss: 0.2878 - accuracy: 0.9111 - val_loss: 0.3408 - val_accuracy: 0.8917\n",
      "Epoch 96/100\n",
      "17/17 [==============================] - 2s 107ms/step - loss: 0.2853 - accuracy: 0.9111 - val_loss: 0.3418 - val_accuracy: 0.8917\n",
      "Epoch 97/100\n",
      "17/17 [==============================] - 2s 106ms/step - loss: 0.2827 - accuracy: 0.9148 - val_loss: 0.3410 - val_accuracy: 0.8917\n",
      "Epoch 98/100\n",
      "17/17 [==============================] - 2s 106ms/step - loss: 0.2803 - accuracy: 0.9167 - val_loss: 0.3394 - val_accuracy: 0.8917\n",
      "Epoch 99/100\n",
      "17/17 [==============================] - 2s 106ms/step - loss: 0.2779 - accuracy: 0.9139 - val_loss: 0.3364 - val_accuracy: 0.8917\n",
      "Epoch 100/100\n",
      "17/17 [==============================] - 2s 106ms/step - loss: 0.2760 - accuracy: 0.9157 - val_loss: 0.3420 - val_accuracy: 0.8833\n"
     ]
    }
   ],
   "source": [
    "train_dataset = tf.data.Dataset.from_tensor_slices((X_train, Y_train)).batch(64)\n",
    "test_dataset = tf.data.Dataset.from_tensor_slices((X_test, Y_test)).batch(64)\n",
    "history = conv_model.fit(train_dataset, epochs=100, validation_data=test_dataset)"
   ]
  },
  {
   "cell_type": "markdown",
   "metadata": {},
   "source": [
    "<a name='5'></a>\n",
    "## 5 - History Object \n",
    "\n",
    "The history object is an output of the `.fit()` operation, and provides a record of all the loss and metric values in memory. It's stored as a dictionary that you can retrieve at `history.history`: "
   ]
  },
  {
   "cell_type": "code",
   "execution_count": 18,
   "metadata": {},
   "outputs": [
    {
     "data": {
      "text/plain": [
       "{'loss': [1.7980191707611084,\n",
       "  1.7841805219650269,\n",
       "  1.7796434164047241,\n",
       "  1.7730199098587036,\n",
       "  1.765539288520813,\n",
       "  1.7534706592559814,\n",
       "  1.7404077053070068,\n",
       "  1.7241458892822266,\n",
       "  1.7010865211486816,\n",
       "  1.6758167743682861,\n",
       "  1.643436074256897,\n",
       "  1.6047866344451904,\n",
       "  1.5603141784667969,\n",
       "  1.509857177734375,\n",
       "  1.4575798511505127,\n",
       "  1.4028278589248657,\n",
       "  1.3488588333129883,\n",
       "  1.2955870628356934,\n",
       "  1.2438442707061768,\n",
       "  1.1946834325790405,\n",
       "  1.1478424072265625,\n",
       "  1.1022497415542603,\n",
       "  1.059361219406128,\n",
       "  1.0152631998062134,\n",
       "  0.9709500074386597,\n",
       "  0.9298651814460754,\n",
       "  0.8921710252761841,\n",
       "  0.8583036065101624,\n",
       "  0.8267510533332825,\n",
       "  0.7981936931610107,\n",
       "  0.770791232585907,\n",
       "  0.745221734046936,\n",
       "  0.7219321727752686,\n",
       "  0.7003234028816223,\n",
       "  0.6800480484962463,\n",
       "  0.6616719365119934,\n",
       "  0.644391655921936,\n",
       "  0.6276118755340576,\n",
       "  0.6119204759597778,\n",
       "  0.5971935987472534,\n",
       "  0.5835530161857605,\n",
       "  0.5700071454048157,\n",
       "  0.5573930144309998,\n",
       "  0.5454877614974976,\n",
       "  0.5341595411300659,\n",
       "  0.5236831307411194,\n",
       "  0.5132630467414856,\n",
       "  0.5037474632263184,\n",
       "  0.4945083558559418,\n",
       "  0.48581385612487793,\n",
       "  0.47691041231155396,\n",
       "  0.4686908423900604,\n",
       "  0.4613623023033142,\n",
       "  0.4540374279022217,\n",
       "  0.4466573894023895,\n",
       "  0.4410758912563324,\n",
       "  0.43452271819114685,\n",
       "  0.42786911129951477,\n",
       "  0.42256683111190796,\n",
       "  0.4161697328090668,\n",
       "  0.4117167592048645,\n",
       "  0.4069162905216217,\n",
       "  0.4013197124004364,\n",
       "  0.3960789144039154,\n",
       "  0.391496866941452,\n",
       "  0.386653870344162,\n",
       "  0.3825715184211731,\n",
       "  0.3778723180294037,\n",
       "  0.3734554052352905,\n",
       "  0.3696230351924896,\n",
       "  0.36559173464775085,\n",
       "  0.36143481731414795,\n",
       "  0.3577030599117279,\n",
       "  0.3536936640739441,\n",
       "  0.34997278451919556,\n",
       "  0.3463807702064514,\n",
       "  0.34254947304725647,\n",
       "  0.3390815258026123,\n",
       "  0.3354850709438324,\n",
       "  0.3322222828865051,\n",
       "  0.3286608159542084,\n",
       "  0.3256874680519104,\n",
       "  0.32220467925071716,\n",
       "  0.31915736198425293,\n",
       "  0.31604522466659546,\n",
       "  0.313554972410202,\n",
       "  0.3100138306617737,\n",
       "  0.30714136362075806,\n",
       "  0.3042515814304352,\n",
       "  0.30128228664398193,\n",
       "  0.2983179986476898,\n",
       "  0.29611214995384216,\n",
       "  0.2935395836830139,\n",
       "  0.2904948890209198,\n",
       "  0.28778189420700073,\n",
       "  0.2852752208709717,\n",
       "  0.28271785378456116,\n",
       "  0.2802596390247345,\n",
       "  0.27794215083122253,\n",
       "  0.2759624421596527],\n",
       " 'accuracy': [0.1527777761220932,\n",
       "  0.19629628956317902,\n",
       "  0.2490740716457367,\n",
       "  0.23055554926395416,\n",
       "  0.31111112236976624,\n",
       "  0.42314815521240234,\n",
       "  0.432407408952713,\n",
       "  0.4731481373310089,\n",
       "  0.5037037134170532,\n",
       "  0.5175926089286804,\n",
       "  0.5231481194496155,\n",
       "  0.529629647731781,\n",
       "  0.529629647731781,\n",
       "  0.5388888716697693,\n",
       "  0.5490740537643433,\n",
       "  0.5583333373069763,\n",
       "  0.574999988079071,\n",
       "  0.595370352268219,\n",
       "  0.6074073910713196,\n",
       "  0.6333333253860474,\n",
       "  0.6527777910232544,\n",
       "  0.6694444417953491,\n",
       "  0.6898148059844971,\n",
       "  0.710185170173645,\n",
       "  0.7314814925193787,\n",
       "  0.7379629611968994,\n",
       "  0.7490741014480591,\n",
       "  0.7555555701255798,\n",
       "  0.7638888955116272,\n",
       "  0.769444465637207,\n",
       "  0.7740740776062012,\n",
       "  0.7824074029922485,\n",
       "  0.7861111164093018,\n",
       "  0.7925925850868225,\n",
       "  0.7953703999519348,\n",
       "  0.8018518686294556,\n",
       "  0.8083333373069763,\n",
       "  0.8185185194015503,\n",
       "  0.8222222328186035,\n",
       "  0.824999988079071,\n",
       "  0.8287037014961243,\n",
       "  0.8324074149131775,\n",
       "  0.8361111283302307,\n",
       "  0.8388888835906982,\n",
       "  0.845370352268219,\n",
       "  0.8481481671333313,\n",
       "  0.8490740656852722,\n",
       "  0.854629635810852,\n",
       "  0.8574073910713196,\n",
       "  0.8601852059364319,\n",
       "  0.8629629611968994,\n",
       "  0.8657407164573669,\n",
       "  0.8675925731658936,\n",
       "  0.8685185313224792,\n",
       "  0.8694444298744202,\n",
       "  0.8740741014480591,\n",
       "  0.8740741014480591,\n",
       "  0.8759258985519409,\n",
       "  0.8777777552604675,\n",
       "  0.8796296119689941,\n",
       "  0.8787037134170532,\n",
       "  0.8796296119689941,\n",
       "  0.8787037134170532,\n",
       "  0.8814814686775208,\n",
       "  0.8824074268341064,\n",
       "  0.8814814686775208,\n",
       "  0.8861111402511597,\n",
       "  0.8824074268341064,\n",
       "  0.8842592835426331,\n",
       "  0.885185182094574,\n",
       "  0.8879629373550415,\n",
       "  0.8888888955116272,\n",
       "  0.8925926089286804,\n",
       "  0.8935185074806213,\n",
       "  0.894444465637207,\n",
       "  0.8925926089286804,\n",
       "  0.8962963223457336,\n",
       "  0.8935185074806213,\n",
       "  0.8981481194496155,\n",
       "  0.895370364189148,\n",
       "  0.8981481194496155,\n",
       "  0.895370364189148,\n",
       "  0.8981481194496155,\n",
       "  0.895370364189148,\n",
       "  0.8990740776062012,\n",
       "  0.8972222208976746,\n",
       "  0.9018518328666687,\n",
       "  0.8999999761581421,\n",
       "  0.8999999761581421,\n",
       "  0.9037036895751953,\n",
       "  0.9055555462837219,\n",
       "  0.9037036895751953,\n",
       "  0.9083333611488342,\n",
       "  0.9083333611488342,\n",
       "  0.9111111164093018,\n",
       "  0.9111111164093018,\n",
       "  0.914814829826355,\n",
       "  0.9166666865348816,\n",
       "  0.9138888716697693,\n",
       "  0.9157407283782959],\n",
       " 'val_loss': [1.7916038036346436,\n",
       "  1.7866020202636719,\n",
       "  1.7831295728683472,\n",
       "  1.7767122983932495,\n",
       "  1.7664330005645752,\n",
       "  1.7572176456451416,\n",
       "  1.7451833486557007,\n",
       "  1.7292431592941284,\n",
       "  1.7110519409179688,\n",
       "  1.6856738328933716,\n",
       "  1.656958818435669,\n",
       "  1.6220240592956543,\n",
       "  1.5823554992675781,\n",
       "  1.5393284559249878,\n",
       "  1.4889284372329712,\n",
       "  1.4383560419082642,\n",
       "  1.3848294019699097,\n",
       "  1.3320311307907104,\n",
       "  1.2800623178482056,\n",
       "  1.2299542427062988,\n",
       "  1.182572603225708,\n",
       "  1.1373918056488037,\n",
       "  1.0935070514678955,\n",
       "  1.0425221920013428,\n",
       "  0.9949235916137695,\n",
       "  0.946716845035553,\n",
       "  0.9084285497665405,\n",
       "  0.8727197051048279,\n",
       "  0.8405741453170776,\n",
       "  0.811126708984375,\n",
       "  0.7843490839004517,\n",
       "  0.758242666721344,\n",
       "  0.7342043519020081,\n",
       "  0.712881326675415,\n",
       "  0.6925689578056335,\n",
       "  0.6726770997047424,\n",
       "  0.6557009220123291,\n",
       "  0.6395894885063171,\n",
       "  0.6259377598762512,\n",
       "  0.611499547958374,\n",
       "  0.5983446836471558,\n",
       "  0.5837987661361694,\n",
       "  0.5712473392486572,\n",
       "  0.5608160495758057,\n",
       "  0.5501325130462646,\n",
       "  0.5409504175186157,\n",
       "  0.5325706005096436,\n",
       "  0.5238503813743591,\n",
       "  0.516443133354187,\n",
       "  0.5087624788284302,\n",
       "  0.5009590983390808,\n",
       "  0.49439042806625366,\n",
       "  0.48750215768814087,\n",
       "  0.48162898421287537,\n",
       "  0.4750535190105438,\n",
       "  0.4706187844276428,\n",
       "  0.4637889862060547,\n",
       "  0.4572935998439789,\n",
       "  0.4526492953300476,\n",
       "  0.44642403721809387,\n",
       "  0.442733496427536,\n",
       "  0.4390370547771454,\n",
       "  0.43399980664253235,\n",
       "  0.4280349910259247,\n",
       "  0.4244389235973358,\n",
       "  0.4189468324184418,\n",
       "  0.417149156332016,\n",
       "  0.411192387342453,\n",
       "  0.40479475259780884,\n",
       "  0.40447303652763367,\n",
       "  0.3985734283924103,\n",
       "  0.393778532743454,\n",
       "  0.38910749554634094,\n",
       "  0.3878898620605469,\n",
       "  0.38279229402542114,\n",
       "  0.3788326680660248,\n",
       "  0.37478986382484436,\n",
       "  0.3730999827384949,\n",
       "  0.3681168854236603,\n",
       "  0.3670693635940552,\n",
       "  0.36307594180107117,\n",
       "  0.3634878098964691,\n",
       "  0.35885581374168396,\n",
       "  0.3597972095012665,\n",
       "  0.35497722029685974,\n",
       "  0.35583576560020447,\n",
       "  0.35123926401138306,\n",
       "  0.352023184299469,\n",
       "  0.34714171290397644,\n",
       "  0.35043269395828247,\n",
       "  0.3487546145915985,\n",
       "  0.3479021191596985,\n",
       "  0.34604719281196594,\n",
       "  0.34403902292251587,\n",
       "  0.3407883942127228,\n",
       "  0.341842383146286,\n",
       "  0.34103280305862427,\n",
       "  0.3393685221672058,\n",
       "  0.33644339442253113,\n",
       "  0.3419700860977173],\n",
       " 'val_accuracy': [0.2083333283662796,\n",
       "  0.19166666269302368,\n",
       "  0.25,\n",
       "  0.17499999701976776,\n",
       "  0.3916666805744171,\n",
       "  0.3916666805744171,\n",
       "  0.4749999940395355,\n",
       "  0.46666666865348816,\n",
       "  0.5083333253860474,\n",
       "  0.5416666865348816,\n",
       "  0.5083333253860474,\n",
       "  0.5249999761581421,\n",
       "  0.5083333253860474,\n",
       "  0.5083333253860474,\n",
       "  0.5416666865348816,\n",
       "  0.5333333611488342,\n",
       "  0.550000011920929,\n",
       "  0.5666666626930237,\n",
       "  0.6083333492279053,\n",
       "  0.6083333492279053,\n",
       "  0.6166666746139526,\n",
       "  0.625,\n",
       "  0.625,\n",
       "  0.675000011920929,\n",
       "  0.675000011920929,\n",
       "  0.6916666626930237,\n",
       "  0.7083333134651184,\n",
       "  0.7166666388511658,\n",
       "  0.7333333492279053,\n",
       "  0.7416666746139526,\n",
       "  0.7416666746139526,\n",
       "  0.7749999761581421,\n",
       "  0.7666666507720947,\n",
       "  0.7666666507720947,\n",
       "  0.7666666507720947,\n",
       "  0.7749999761581421,\n",
       "  0.7916666865348816,\n",
       "  0.7916666865348816,\n",
       "  0.7916666865348816,\n",
       "  0.800000011920929,\n",
       "  0.8083333373069763,\n",
       "  0.8083333373069763,\n",
       "  0.8083333373069763,\n",
       "  0.8083333373069763,\n",
       "  0.8166666626930237,\n",
       "  0.8166666626930237,\n",
       "  0.8166666626930237,\n",
       "  0.8166666626930237,\n",
       "  0.824999988079071,\n",
       "  0.824999988079071,\n",
       "  0.8333333134651184,\n",
       "  0.8333333134651184,\n",
       "  0.8500000238418579,\n",
       "  0.8416666388511658,\n",
       "  0.8416666388511658,\n",
       "  0.8500000238418579,\n",
       "  0.8500000238418579,\n",
       "  0.8500000238418579,\n",
       "  0.8500000238418579,\n",
       "  0.8500000238418579,\n",
       "  0.8666666746139526,\n",
       "  0.8500000238418579,\n",
       "  0.8500000238418579,\n",
       "  0.8583333492279053,\n",
       "  0.8583333492279053,\n",
       "  0.875,\n",
       "  0.8666666746139526,\n",
       "  0.8666666746139526,\n",
       "  0.8666666746139526,\n",
       "  0.875,\n",
       "  0.875,\n",
       "  0.8666666746139526,\n",
       "  0.875,\n",
       "  0.875,\n",
       "  0.8833333253860474,\n",
       "  0.8833333253860474,\n",
       "  0.8833333253860474,\n",
       "  0.8833333253860474,\n",
       "  0.8833333253860474,\n",
       "  0.8833333253860474,\n",
       "  0.8833333253860474,\n",
       "  0.8833333253860474,\n",
       "  0.8833333253860474,\n",
       "  0.8833333253860474,\n",
       "  0.875,\n",
       "  0.8833333253860474,\n",
       "  0.8833333253860474,\n",
       "  0.8833333253860474,\n",
       "  0.8833333253860474,\n",
       "  0.8916666507720947,\n",
       "  0.8916666507720947,\n",
       "  0.8916666507720947,\n",
       "  0.8916666507720947,\n",
       "  0.8916666507720947,\n",
       "  0.8916666507720947,\n",
       "  0.8916666507720947,\n",
       "  0.8916666507720947,\n",
       "  0.8916666507720947,\n",
       "  0.8916666507720947,\n",
       "  0.8833333253860474]}"
      ]
     },
     "execution_count": 18,
     "metadata": {},
     "output_type": "execute_result"
    }
   ],
   "source": [
    "history.history"
   ]
  },
  {
   "cell_type": "markdown",
   "metadata": {},
   "source": [
    "Now visualize the loss over time using `history.history`: "
   ]
  },
  {
   "cell_type": "code",
   "execution_count": 19,
   "metadata": {},
   "outputs": [
    {
     "data": {
      "text/plain": [
       "[Text(0, 0.5, 'Accuracy'), Text(0.5, 0, 'Epoch')]"
      ]
     },
     "execution_count": 19,
     "metadata": {},
     "output_type": "execute_result"
    },
    {
     "data": {
      "image/png": "[encoded data removed]",
      "text/plain": [
       "<Figure size 864x576 with 1 Axes>"
      ]
     },
     "metadata": {
      "needs_background": "light"
     },
     "output_type": "display_data"
    },
    {
     "data": {
      "image/png": "[encoded data removed]",
      "text/plain": [
       "<Figure size 864x576 with 1 Axes>"
      ]
     },
     "metadata": {
      "needs_background": "light"
     },
     "output_type": "display_data"
    }
   ],
   "source": [
    "# The history.history[\"loss\"] entry is a dictionary with as many values as epochs that the\n",
    "# model was trained on. \n",
    "df_loss_acc = pd.DataFrame(history.history)\n",
    "df_loss= df_loss_acc[['loss','val_loss']]\n",
    "df_loss.rename(columns={'loss':'train','val_loss':'validation'},inplace=True)\n",
    "df_acc= df_loss_acc[['accuracy','val_accuracy']]\n",
    "df_acc.rename(columns={'accuracy':'train','val_accuracy':'validation'},inplace=True)\n",
    "df_loss.plot(title='Model loss',figsize=(12,8)).set(xlabel='Epoch',ylabel='Loss')\n",
    "df_acc.plot(title='Model Accuracy',figsize=(12,8)).set(xlabel='Epoch',ylabel='Accuracy')"
   ]
  },
  {
   "cell_type": "markdown",
   "metadata": {},
   "source": [
    "**Congratulations**! You've finished the assignment and built two models: One that recognizes  smiles, and another that recognizes SIGN language with almost 80% accuracy on the test set. In addition to that, you now also understand the applications of two Keras APIs: Sequential and Functional. Nicely done! \n",
    "\n",
    "By now, you know a bit about how the Functional API works and may have glimpsed the possibilities. In your next assignment, you'll really get a feel for its power when you get the opportunity to build a very deep ConvNet, using ResNets! "
   ]
  },
  {
   "cell_type": "markdown",
   "metadata": {},
   "source": [
    "<a name='6'></a>\n",
    "## 6 - Bibliography\n",
    "\n",
    "You're always encouraged to read the official documentation. To that end, you can find the docs for the Sequential and Functional APIs here: \n",
    "\n",
    "https://www.tensorflow.org/guide/keras/sequential_model\n",
    "\n",
    "https://www.tensorflow.org/guide/keras/functional"
   ]
  }
 ],
 "metadata": {
  "coursera": {
   "course_slug": "convolutional-neural-networks",
   "graded_item_id": "bwbJV",
   "launcher_item_id": "0TkXB"
  },
  "kernelspec": {
   "display_name": "Python 3",
   "language": "python",
   "name": "python3"
  },
  "language_info": {
   "codemirror_mode": {
    "name": "ipython",
    "version": 3
   },
   "file_extension": ".py",
   "mimetype": "text/x-python",
   "name": "python",
   "nbconvert_exporter": "python",
   "pygments_lexer": "ipython3",
   "version": "3.7.6"
  }
 },
 "nbformat": 4,
 "nbformat_minor": 2
}
